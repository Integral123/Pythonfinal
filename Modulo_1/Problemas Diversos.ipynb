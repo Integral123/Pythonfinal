{
 "cells": [
  {
   "cell_type": "markdown",
   "metadata": {},
   "source": [
    "# PROBLEMAS DIVERSOS"
   ]
  },
  {
   "cell_type": "markdown",
   "metadata": {},
   "source": [
    "<h3>1.</h3>\n",
    "Imagina que acabas de abrir una nueva cuenta de ahorros que te ofrece el 4% de interés al año. Estos ahorros debido a intereses, que no se cobran hasta finales de año, se te añaden al balance final de tu cuenta de ahorros. Escribir un programa que comience leyendo la cantidad de dinero depositada en la cuenta de ahorros, introducida por el usuario. Después el programa debe calcular y mostrar por pantalla la cantidad de ahorros tras el primer, segundo y tercer años. Redondear cada cantidad a dos decimales."
   ]
  },
  {
   "cell_type": "code",
   "execution_count": 10,
   "metadata": {},
   "outputs": [
    {
     "name": "stdin",
     "output_type": "stream",
     "text": [
      "Ingrese Cantidad a depositar:  100\n"
     ]
    },
    {
     "name": "stdout",
     "output_type": "stream",
     "text": [
      "La cantidad del  1 ° año es: 104.00\n",
      "La cantidad del  2 ° año es: 108.16\n",
      "La cantidad del  3 ° año es: 112.49\n",
      "La cantidad del primer año es: 104.00\n",
      "La cantidad del segundo año es: 108.16\n",
      "La cantidad del tercer año es: 112.49\n"
     ]
    }
   ],
   "source": [
    "c = float(input(\"Ingrese Cantidad a depositar: \"))\n",
    "\n",
    "i = 0.04\n",
    "\n",
    "for j in range (1,4):\n",
    "    a = c*((1+i)**j)\n",
    "    print(\"La cantidad del \",j,\"° año es: {0:.2f}\".format(a))\n"
   ]
  },
  {
   "cell_type": "markdown",
   "metadata": {},
   "source": [
    "### 2.\n",
    "Escriba un programa que pida los coeficientes de una ecuación de segundo grado <code>(a x² + b x + c = 0)</code> y escriba la solución.\n",
    "\n",
    "Se recuerda que una ecuación de segundo grado puede no tener solución, tener una solución única, tener dos soluciones o que todos los números sean solución."
   ]
  },
  {
   "cell_type": "markdown",
   "metadata": {},
   "source": [
    "<img src='https://i.pinimg.com/originals/d3/f7/01/d3f701528ad56ce0f5a98d7c91722fd7.png'>"
   ]
  },
  {
   "cell_type": "markdown",
   "metadata": {},
   "source": [
    "Su programa debe indicar:\n",
    "- En caso la ecuación cuadrática tenga solución real, su programa debe brindar la solución\n",
    "- En caso su ecuación no tenga solución real, su programa debe brindar un mensaje que diga \"Ecuación no presenta solución real\""
   ]
  },
  {
   "cell_type": "code",
   "execution_count": 1,
   "metadata": {},
   "outputs": [],
   "source": [
    "import math"
   ]
  },
  {
   "cell_type": "code",
   "execution_count": 3,
   "metadata": {},
   "outputs": [
    {
     "data": {
      "text/plain": [
       "1.4142135623730951"
      ]
     },
     "execution_count": 3,
     "metadata": {},
     "output_type": "execute_result"
    }
   ],
   "source": [
    "2 ** (1/2)"
   ]
  },
  {
   "cell_type": "code",
   "execution_count": 31,
   "metadata": {},
   "outputs": [
    {
     "name": "stdin",
     "output_type": "stream",
     "text": [
      "Introduzca el primer coeficiente: 16\n",
      "Introduzca el segundo coeficiente: -24\n",
      "Introduzca el tercer coeficiente: 9\n"
     ]
    },
    {
     "name": "stdout",
     "output_type": "stream",
     "text": [
      "Una solucion doble:\n",
      "X1: 0.75\n",
      "X2: 0.75\n"
     ]
    }
   ],
   "source": [
    "import math\n",
    "\n",
    "a=int(input(\"Introduzca el primer coeficiente:\"))\n",
    "b=int(input(\"Introduzca el segundo coeficiente:\"))\n",
    "c=int(input(\"Introduzca el tercer coeficiente:\"))\n",
    "\n",
    "if a != 0:\n",
    "    dis = (b**2)-4*a*c\n",
    "    \n",
    "    if dis > 0:\n",
    "        print(\"Tiene 2 soluciones distintas:\")\n",
    "        Sol1= (-b +  math.sqrt(dis))/(2*a)\n",
    "        Sol2= (-b -  math.sqrt(dis))/(2*a)\n",
    "        print(\"X1:\",Sol1)\n",
    "        print(\"X2:\",Sol2)\n",
    "    elif dis == 0:\n",
    "        print(\"Una solucion doble:\")\n",
    "        Sol1= (-b +  math.sqrt(dis))/(2*a)\n",
    "        Sol2= (-b -  math.sqrt(dis))/(2*a)\n",
    "        print(\"X1:\",Sol1)\n",
    "        print(\"X2:\",Sol2)\n",
    "    else:\n",
    "        print(\"No tiene solucion real\")\n"
   ]
  },
  {
   "cell_type": "code",
   "execution_count": null,
   "metadata": {},
   "outputs": [],
   "source": []
  }
 ],
 "metadata": {
  "kernelspec": {
   "display_name": "Python 3",
   "language": "python",
   "name": "python3"
  },
  "language_info": {
   "codemirror_mode": {
    "name": "ipython",
    "version": 3
   },
   "file_extension": ".py",
   "mimetype": "text/x-python",
   "name": "python",
   "nbconvert_exporter": "python",
   "pygments_lexer": "ipython3",
   "version": "3.8.5"
  }
 },
 "nbformat": 4,
 "nbformat_minor": 4
}
